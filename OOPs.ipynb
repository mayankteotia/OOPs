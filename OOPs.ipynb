{
 "cells": [
  {
   "cell_type": "markdown",
   "id": "b0b44710-eba5-489e-a956-56f2ccb3e6b0",
   "metadata": {},
   "source": [
    "#Q1->\n",
    "The five key concepts of Object-Oriented Programming (OOP) are:\n",
    "\n",
    "Encapsulation:\n",
    "\n",
    "Encapsulation is the practice of bundling the data (attributes) and methods (functions) that operate on the data into a single unit, called an object. It restricts direct access to some of an object's components, which helps prevent unintended interference and misuse of the data. This is often achieved through access modifiers (e.g., public, private, protected).\n",
    "Abstraction:\n",
    "\n",
    "Abstraction is the concept of hiding the complex implementation details of a system and exposing only the necessary and relevant parts. It allows programmers to work at a higher level of complexity, focusing on the interface and functionality rather than the underlying code. This can be achieved through abstract classes and interfaces.\n",
    "Inheritance:\n",
    "\n",
    "Inheritance is a mechanism that allows one class (the subclass or derived class) to inherit attributes and methods from another class (the superclass or base class). This promotes code reusability and establishes a natural hierarchy between classes. For example, if you have a class Animal, a class Dog can inherit from it, gaining its properties and behaviors while also having its unique attributes.\n",
    "Polymorphism:\n",
    "\n",
    "Polymorphism allows methods to do different things based on the object it is acting upon. This can be achieved through method overloading (same method name with different signatures) or method overriding (subclass provides a specific implementation of a method that is already defined in its superclass). It enables a single interface to represent different underlying forms (data types).\n",
    "Composition:\n",
    "\n",
    "Composition is a design principle where a class is composed of one or more objects from other classes, enabling a \"has-a\" relationship. Instead of inheriting from a class, an object can contain references to other objects to achieve functionality. This allows for greater flexibility and code reuse, as classes can be constructed using various component classes without being tightly coupled.\n",
    "These concepts form the foundation of OOP and help developers create modular, maintainable, and reusable code.\n",
    "\n",
    "\n",
    "\n",
    "\n",
    "\n"
   ]
  },
  {
   "cell_type": "code",
   "execution_count": 1,
   "id": "d25c34de-ff34-4aca-9087-43cff0de9b2c",
   "metadata": {},
   "outputs": [
    {
     "name": "stdout",
     "output_type": "stream",
     "text": [
      "Car Information:\n",
      "Make: Toyota\n",
      "Model: Camry\n",
      "Year: 2020\n"
     ]
    }
   ],
   "source": [
    "#Q2->\n",
    "class Car:\n",
    "    def __init__(self, make, model, year):\n",
    "        \"\"\"Initialize the car's attributes.\"\"\"\n",
    "        self.make = make\n",
    "        self.model = model\n",
    "        self.year = year\n",
    "\n",
    "    def display_info(self):\n",
    "        \"\"\"Display the car's information.\"\"\"\n",
    "        print(f\"Car Information:\\nMake: {self.make}\\nModel: {self.model}\\nYear: {self.year}\")\n",
    "\n",
    "# Example usage:\n",
    "if __name__ == \"__main__\":\n",
    "    # Create a car object\n",
    "    my_car = Car(\"Toyota\", \"Camry\", 2020)\n",
    "    \n",
    "    # Display the car's information\n",
    "    my_car.display_info()\n"
   ]
  },
  {
   "cell_type": "code",
   "execution_count": 2,
   "id": "59408a31-0a26-4724-978e-e46f472be074",
   "metadata": {},
   "outputs": [
    {
     "name": "stdout",
     "output_type": "stream",
     "text": [
      "Buddy says woof!\n"
     ]
    }
   ],
   "source": [
    "#Q3->\n",
    "class Dog:\n",
    "    def __init__(self, name, age):\n",
    "        self.name = name  # Instance attribute\n",
    "        self.age = age    # Instance attribute\n",
    "\n",
    "    def bark(self):\n",
    "        return f\"{self.name} says woof!\"\n",
    "\n",
    "# Usage\n",
    "my_dog = Dog(\"Buddy\", 3)\n",
    "print(my_dog.bark())  # Output: Buddy says woof!\n"
   ]
  },
  {
   "cell_type": "code",
   "execution_count": 3,
   "id": "2728d09f-d55a-49b5-b926-d501328d7e38",
   "metadata": {},
   "outputs": [
    {
     "name": "stdout",
     "output_type": "stream",
     "text": [
      "1\n",
      "3\n",
      "15\n"
     ]
    }
   ],
   "source": [
    "#Q4->\n",
    "class Adder:\n",
    "    def add(self, *args):  # Accepts a variable number of arguments\n",
    "        return sum(args)   # Returns the sum of all arguments\n",
    "\n",
    "# Usage\n",
    "adder = Adder()\n",
    "\n",
    "# Calling add with varying numbers of arguments\n",
    "print(adder.add(1))               # Output: 1\n",
    "print(adder.add(1, 2))            # Output: 3\n",
    "print(adder.add(1, 2, 3, 4, 5))   # Output: 15\n"
   ]
  },
  {
   "cell_type": "code",
   "execution_count": 4,
   "id": "2a467662-3e16-4bdd-9df8-b8cc369bcdc1",
   "metadata": {},
   "outputs": [
    {
     "name": "stdout",
     "output_type": "stream",
     "text": [
      "Toyota\n",
      "Make: Toyota, Model: Camry\n"
     ]
    }
   ],
   "source": [
    "#Q5->\n",
    "class Car:\n",
    "    def __init__(self, make, model):\n",
    "        self.make = make  # Public attribute\n",
    "        self.model = model  # Public attribute\n",
    "\n",
    "    def display_info(self):  # Public method\n",
    "        print(f\"Make: {self.make}, Model: {self.model}\")\n",
    "\n",
    "# Usage\n",
    "my_car = Car(\"Toyota\", \"Camry\")\n",
    "print(my_car.make)  # Accessing public attribute\n",
    "my_car.display_info()  # Calling public method\n"
   ]
  },
  {
   "cell_type": "code",
   "execution_count": 5,
   "id": "aee11912-e694-49dc-96e5-e15a8d77704a",
   "metadata": {},
   "outputs": [
    {
     "name": "stdout",
     "output_type": "stream",
     "text": [
      "Method from Parent1\n",
      "Method from Parent2\n",
      "Method from Child\n"
     ]
    }
   ],
   "source": [
    "#Q6->\n",
    "class Parent1:\n",
    "    def method1(self):\n",
    "        return \"Method from Parent1\"\n",
    "\n",
    "class Parent2:\n",
    "    def method2(self):\n",
    "        return \"Method from Parent2\"\n",
    "\n",
    "class Child(Parent1, Parent2):\n",
    "    def method3(self):\n",
    "        return \"Method from Child\"\n",
    "\n",
    "# Usage\n",
    "child = Child()\n",
    "print(child.method1())  # Output: Method from Parent1\n",
    "print(child.method2())  # Output: Method from Parent2\n",
    "print(child.method3())  # Output: Method from Child\n"
   ]
  },
  {
   "cell_type": "code",
   "execution_count": 6,
   "id": "cdb6fcd1-a972-40e6-8173-031bddcbd84a",
   "metadata": {},
   "outputs": [
    {
     "name": "stdout",
     "output_type": "stream",
     "text": [
      "Method from class B\n"
     ]
    }
   ],
   "source": [
    "#Q7->\n",
    "class A:\n",
    "    def show(self):\n",
    "        return \"Method from class A\"\n",
    "\n",
    "class B(A):\n",
    "    def show(self):\n",
    "        return \"Method from class B\"\n",
    "\n",
    "class C(A):\n",
    "    def show(self):\n",
    "        return \"Method from class C\"\n",
    "\n",
    "class D(B, C):\n",
    "    pass\n",
    "\n",
    "# Usage\n",
    "d = D()\n",
    "print(d.show())  # Output: Method from class B\n"
   ]
  },
  {
   "cell_type": "code",
   "execution_count": 7,
   "id": "d9a810c8-86a1-4c99-add2-c24449495635",
   "metadata": {},
   "outputs": [
    {
     "name": "stdout",
     "output_type": "stream",
     "text": [
      "Area of Circle: 78.54\n",
      "Area of Rectangle: 24\n"
     ]
    }
   ],
   "source": [
    "#Q8->\n",
    "from abc import ABC, abstractmethod\n",
    "import math\n",
    "\n",
    "# Step 1: Define the abstract base class\n",
    "class Shape(ABC):\n",
    "    @abstractmethod\n",
    "    def area(self):\n",
    "        pass  # Abstract method, must be implemented by subclasses\n",
    "\n",
    "# Step 2: Implement the Circle subclass\n",
    "class Circle(Shape):\n",
    "    def __init__(self, radius):\n",
    "        self.radius = radius\n",
    "\n",
    "    def area(self):\n",
    "        return math.pi * (self.radius ** 2)  # Area = πr²\n",
    "\n",
    "# Step 2: Implement the Rectangle subclass\n",
    "class Rectangle(Shape):\n",
    "    def __init__(self, width, height):\n",
    "        self.width = width\n",
    "        self.height = height\n",
    "\n",
    "    def area(self):\n",
    "        return self.width * self.height  # Area = width * height\n",
    "\n",
    "# Example usage\n",
    "circle = Circle(5)\n",
    "rectangle = Rectangle(4, 6)\n",
    "\n",
    "print(f\"Area of Circle: {circle.area():.2f}\")       # Output: Area of Circle: 78.54\n",
    "print(f\"Area of Rectangle: {rectangle.area()}\")      # Output: Area of Rectangle: 24\n"
   ]
  },
  {
   "cell_type": "code",
   "execution_count": 8,
   "id": "efa5a132-f235-476f-98ac-e411bfbaabca",
   "metadata": {},
   "outputs": [
    {
     "name": "stdout",
     "output_type": "stream",
     "text": [
      "The area of the shape is: 78.54\n",
      "The area of the shape is: 24.00\n"
     ]
    }
   ],
   "source": [
    "#Q9->\n",
    "from abc import ABC, abstractmethod\n",
    "import math\n",
    "\n",
    "# Abstract base class\n",
    "class Shape(ABC):\n",
    "    @abstractmethod\n",
    "    def area(self):\n",
    "        pass\n",
    "\n",
    "# Circle class\n",
    "class Circle(Shape):\n",
    "    def __init__(self, radius):\n",
    "        self.radius = radius\n",
    "\n",
    "    def area(self):\n",
    "        return math.pi * (self.radius ** 2)  # Area = πr²\n",
    "\n",
    "# Rectangle class\n",
    "class Rectangle(Shape):\n",
    "    def __init__(self, width, height):\n",
    "        self.width = width\n",
    "        self.height = height\n",
    "\n",
    "    def area(self):\n",
    "        return self.width * self.height  # Area = width * height\n",
    "\n",
    "# Function that uses polymorphism to calculate area\n",
    "def print_area(shape: Shape):\n",
    "    print(f\"The area of the shape is: {shape.area():.2f}\")\n",
    "\n",
    "# Example usage\n",
    "circle = Circle(5)\n",
    "rectangle = Rectangle(4, 6)\n",
    "\n",
    "# Using the polymorphic function\n",
    "print_area(circle)      # Output: The area of the shape is: 78.54\n",
    "print_area(rectangle)   # Output: The area of the shape is: 24.00\n"
   ]
  },
  {
   "cell_type": "code",
   "execution_count": 9,
   "id": "2a11d3f7-ad78-47a0-be56-e39dde624a64",
   "metadata": {},
   "outputs": [
    {
     "name": "stdout",
     "output_type": "stream",
     "text": [
      "Deposited: $500.00. New balance: $1500.00.\n",
      "Withdrew: $200.00. New balance: $1300.00.\n",
      "Current balance: $1300.00\n",
      "Insufficient funds or invalid withdrawal amount.\n"
     ]
    }
   ],
   "source": [
    "#Q10->\n",
    "class BankAccount:\n",
    "    def __init__(self, account_number, initial_balance=0):\n",
    "        self.__account_number = account_number  # Private attribute\n",
    "        self.__balance = initial_balance          # Private attribute\n",
    "\n",
    "    # Method to deposit money\n",
    "    def deposit(self, amount):\n",
    "        if amount > 0:\n",
    "            self.__balance += amount\n",
    "            print(f\"Deposited: ${amount:.2f}. New balance: ${self.__balance:.2f}.\")\n",
    "        else:\n",
    "            print(\"Deposit amount must be positive.\")\n",
    "\n",
    "    # Method to withdraw money\n",
    "    def withdraw(self, amount):\n",
    "        if 0 < amount <= self.__balance:\n",
    "            self.__balance -= amount\n",
    "            print(f\"Withdrew: ${amount:.2f}. New balance: ${self.__balance:.2f}.\")\n",
    "        else:\n",
    "            print(\"Insufficient funds or invalid withdrawal amount.\")\n",
    "\n",
    "    # Method to inquire the current balance\n",
    "    def get_balance(self):\n",
    "        return self.__balance\n",
    "\n",
    "    # Method to get the account number (if needed)\n",
    "    def get_account_number(self):\n",
    "        return self.__account_number\n",
    "\n",
    "# Example usage\n",
    "account = BankAccount(\"123456789\", 1000)  # Create a bank account with an initial balance of $1000\n",
    "\n",
    "# Deposit money\n",
    "account.deposit(500)  # Output: Deposited: $500.00. New balance: $1500.00.\n",
    "\n",
    "# Withdraw money\n",
    "account.withdraw(200)  # Output: Withdrew: $200.00. New balance: $1300.00.\n",
    "\n",
    "# Check balance\n",
    "print(f\"Current balance: ${account.get_balance():.2f}\")  # Output: Current balance: $1300.00\n",
    "\n",
    "# Attempt to withdraw more than the balance\n",
    "account.withdraw(1500)  # Output: Insufficient funds or invalid withdrawal amount.\n"
   ]
  },
  {
   "cell_type": "code",
   "execution_count": 10,
   "id": "3f440036-c517-4a9f-8d9a-a6080376b2cd",
   "metadata": {},
   "outputs": [
    {
     "name": "stdout",
     "output_type": "stream",
     "text": [
      "Vector(2, 3)\n",
      "Vector(5, 7)\n",
      "Vector(7, 10)\n"
     ]
    }
   ],
   "source": [
    "#Q11->\n",
    "class Vector:\n",
    "    def __init__(self, x, y):\n",
    "        self.x = x\n",
    "        self.y = y\n",
    "\n",
    "    def __str__(self):\n",
    "        # Define the string representation of the object\n",
    "        return f\"Vector({self.x}, {self.y})\"\n",
    "\n",
    "    def __add__(self, other):\n",
    "        # Define how to add two Vector objects\n",
    "        if isinstance(other, Vector):\n",
    "            return Vector(self.x + other.x, self.y + other.y)\n",
    "        return NotImplemented\n",
    "\n",
    "# Example usage\n",
    "v1 = Vector(2, 3)\n",
    "v2 = Vector(5, 7)\n",
    "\n",
    "# Using __str__ method\n",
    "print(v1)  # Output: Vector(2, 3)\n",
    "print(v2)  # Output: Vector(5, 7)\n",
    "\n",
    "# Using __add__ method\n",
    "v3 = v1 + v2\n",
    "print(v3)  # Output: Vector(7, 10)\n"
   ]
  },
  {
   "cell_type": "code",
   "execution_count": null,
   "id": "72654cd2-6b09-474d-9b9d-8925ceea7e24",
   "metadata": {},
   "outputs": [],
   "source": [
    "#Q13->\n"
   ]
  }
 ],
 "metadata": {
  "kernelspec": {
   "display_name": "Python 3 (ipykernel)",
   "language": "python",
   "name": "python3"
  },
  "language_info": {
   "codemirror_mode": {
    "name": "ipython",
    "version": 3
   },
   "file_extension": ".py",
   "mimetype": "text/x-python",
   "name": "python",
   "nbconvert_exporter": "python",
   "pygments_lexer": "ipython3",
   "version": "3.12.4"
  }
 },
 "nbformat": 4,
 "nbformat_minor": 5
}
